{
 "cells": [
  {
   "cell_type": "markdown",
   "id": "46734250",
   "metadata": {},
   "source": [
    "# 🚀 TABULATE DEMO\n",
    "\n",
    "The **purpose** of this notebook:\n",
    "- demonstrate how to call Tabulate API from Python\n",
    "- run custom feature extraction for text documents"
   ]
  },
  {
   "cell_type": "markdown",
   "id": "ae70362f",
   "metadata": {},
   "source": [
    "============================================================\n",
    "\n",
    "# 1. PREPARATIONS\n",
    "\n",
    "First, make sure to deploy the Tablulate stack by following the [README file](README.md).\n",
    "\n",
    "This section imports required dependencies and connects to the AWS account."
   ]
  },
  {
   "cell_type": "code",
   "execution_count": 32,
   "id": "dfcd832e",
   "metadata": {},
   "outputs": [],
   "source": [
    "### REQUIREMENTS\n",
    "\n",
    "import os"
   ]
  },
  {
   "cell_type": "code",
   "execution_count": 33,
   "id": "dc8aea73",
   "metadata": {},
   "outputs": [],
   "source": [
    "### AWS CREDENTIALS\n",
    "\n",
    "\"\"\"\n",
    "Run this cell when running the notebook locally, when running on SageMaker.\n",
    "\"\"\"\n",
    "\n",
    "# Option 1\n",
    "# os.environ[\"AWS_ACCESS_KEY_ID\"] = \"XXX\"\n",
    "# os.environ[\"AWS_SECRET_ACCESS_KEY\"] = \"XXX\"\n",
    "# os.environ[\"AWS_SESSION_TOKEN\"] = \"XXX\"\n",
    "\n",
    "# Option 2\n",
    "os.environ[\"AWS_PROFILE\"] = \"XXX\""
   ]
  },
  {
   "cell_type": "code",
   "execution_count": 34,
   "id": "3c3c649a-c7fb-44ae-9496-6d94e3f40b76",
   "metadata": {
    "tags": []
   },
   "outputs": [],
   "source": [
    "### ARN & BUCKET\n",
    "\n",
    "# add the ARN of the Tabulate StepFunctions and S3 bucket name\n",
    "# both are displayed in the Terminal output after running `cdk deploy`\n",
    "\n",
    "STATE_MACHINE_ARN = \"arn:aws:states:us-east-1:081277383238:stateMachine:tabulate-StepFunctions\"\n",
    "BUCKET_NAME = \"tabulate-data-081277383238\""
   ]
  },
  {
   "cell_type": "markdown",
   "id": "eeffbeca",
   "metadata": {},
   "source": [
    "============================================================\n",
    "\n",
    "# 2. DEMO"
   ]
  },
  {
   "cell_type": "code",
   "execution_count": 35,
   "id": "b7f4747b-5840-4a7a-be0a-764d55f4f1fe",
   "metadata": {
    "tags": []
   },
   "outputs": [
    {
     "name": "stdout",
     "output_type": "stream",
     "text": [
      "upload: originals/email_1.txt to s3://tabulate-data-081277383238/originals/email_1.txt\n",
      "upload: originals/email_3.txt to s3://tabulate-data-081277383238/originals/email_3.txt\n",
      "upload: originals/email_2.txt to s3://tabulate-data-081277383238/originals/email_2.txt\n",
      "upload: originals/code-sample-catalog.pdf to s3://tabulate-data-081277383238/originals/code-sample-catalog.pdf\n",
      "upload: originals/cloud-adoption-framework.pdf to s3://tabulate-data-081277383238/originals/cloud-adoption-framework.pdf\n"
     ]
    }
   ],
   "source": [
    "### DOCUMENT TEXTS\n",
    "\n",
    "# upload documents to the Tabulate bucket\n",
    "local_path = \"originals\"\n",
    "s3_path = f\"s3://{BUCKET_NAME}/originals\"\n",
    "!aws s3 cp $local_path $s3_path --recursive\n",
    "\n",
    "documents = [\n",
    "    \"originals/email_1.txt\",\n",
    "    \"originals/email_2.txt\",\n",
    "    \"originals/email_3.txt\",\n",
    "]"
   ]
  },
  {
   "cell_type": "code",
   "execution_count": null,
   "id": "027b8b2d",
   "metadata": {},
   "outputs": [],
   "source": [
    "### HELPER FUNCTION\n",
    "\n",
    "from utils import run_tabulate_api"
   ]
  },
  {
   "cell_type": "markdown",
   "id": "e27e8bb4",
   "metadata": {},
   "source": [
    "### Level 1: Extract Well-Defined Entities\n",
    "\n",
    "In this example, we extract well-defined entities, including `customer_name`, `shipment_id`, and email `language`. For each entity, we provide the entity name, and a brief description of the entity."
   ]
  },
  {
   "cell_type": "code",
   "execution_count": null,
   "id": "9e739687",
   "metadata": {},
   "outputs": [],
   "source": [
    "### DEFINE ATTRIBUTES\n",
    "\n",
    "attributes = [\n",
    "    {\"name\": \"customer_name\", \"description\": \"name of the customer who wrote the email\"},\n",
    "    {\"name\": \"shipment_id\", \"description\": \"unique shipment identifier\"},\n",
    "    {\"name\": \"language\", \"description\": \"two-letter language code of the email\"},\n",
    "]"
   ]
  },
  {
   "cell_type": "code",
   "execution_count": null,
   "id": "f79e72ec",
   "metadata": {},
   "outputs": [],
   "source": [
    "### RUN ATTRIBUTE EXTRACTION\n",
    "\n",
    "run_tabulate_api(documents=documents, attributes=attributes, state_machine_arn=STATE_MACHINE_ARN)"
   ]
  },
  {
   "cell_type": "markdown",
   "id": "f33340bc",
   "metadata": {},
   "source": [
    "### Level 2: Assign Custom Numeric Scores\n",
    "\n",
    "In this example, we extract custom numeric scores that describe the texts, including `sentiment` and shipment `delay`. Since these are not well-defined entities, we provide a more verbose description to calibrate the LLM. \n",
    "\n",
    "Additionally, we will also provide optional document-level `instructions`."
   ]
  },
  {
   "cell_type": "code",
   "execution_count": null,
   "id": "673b9d52",
   "metadata": {},
   "outputs": [],
   "source": [
    "### DEFINE ATTRIBUTES\n",
    "\n",
    "DELAY_DESCRIPTION = \"\"\"Delay of the shipment in days.\n",
    "\n",
    "Example email: I have been waiting for my shipment for a week now! Where is it?\n",
    "Delay: 7\n",
    "\n",
    "Example email: The shipment is supposed to arrive today, can you send me the tracking number?\n",
    "Delay: 0\n",
    "\"\"\"\n",
    "\n",
    "attributes = [\n",
    "    {\n",
    "        \"name\": \"sentiment\",\n",
    "        \"description\": \"Sentiment score between 0 and 1. 0 refers to a very negative text, 1 is a very positive text, and 0.5 is neutral text\",\n",
    "    },\n",
    "    {\n",
    "        \"name\": \"delay\",\n",
    "        \"description\": DELAY_DESCRIPTION,\n",
    "    },\n",
    "]\n",
    "\n",
    "instructions = \"All numbers must have at most 1 digit after the coma\""
   ]
  },
  {
   "cell_type": "code",
   "execution_count": null,
   "id": "cc07ab12",
   "metadata": {},
   "outputs": [],
   "source": [
    "### RUN ATTRIBUTE EXTRACTION\n",
    "\n",
    "run_tabulate_api(\n",
    "    documents=documents, attributes=attributes, instructions=instructions, state_machine_arn=STATE_MACHINE_ARN\n",
    ")"
   ]
  },
  {
   "cell_type": "markdown",
   "id": "a7124bf7",
   "metadata": {},
   "source": [
    "### Level 3: Generate Text-Based Features\n",
    "\n",
    "In this example, we extract custom text snippets generated by the LLM, such as `summary` and `response`. \n",
    "\n",
    "We also:\n",
    "- specify the LLM inference parameters as part of the API call to select a suitable model for our task.\n",
    "- provide additional high-level instructions. These are optional and can contain formatting instructions, input-output examples, and more."
   ]
  },
  {
   "cell_type": "code",
   "execution_count": null,
   "id": "be58effb",
   "metadata": {},
   "outputs": [],
   "source": [
    "### DEFINE LLM INFERENCE PARAMS\n",
    "\n",
    "model_params = {\n",
    "    \"model_id\": \"anthropic.claude-3-haiku-20240307-v1:0\",\n",
    "    \"output_length\": 256,\n",
    "    \"temperature\": 0.0,\n",
    "}"
   ]
  },
  {
   "cell_type": "code",
   "execution_count": null,
   "id": "10f5df6b",
   "metadata": {},
   "outputs": [],
   "source": [
    "### DEFINE ATTRIBUTES\n",
    "\n",
    "attributes = [\n",
    "    {\n",
    "        \"name\": \"summary\",\n",
    "        \"description\": \"One-sentence summary of the issue mentioned in the email\",\n",
    "        \"type\": \"character\",\n",
    "    },\n",
    "    {\n",
    "        \"name\": \"response\",\n",
    "        \"description\": \"suggested response to the customer email that aims to resolve the issue\",\n",
    "        \"type\": \"character\",\n",
    "    },\n",
    "]"
   ]
  },
  {
   "cell_type": "code",
   "execution_count": null,
   "id": "008e55a3",
   "metadata": {},
   "outputs": [],
   "source": [
    "### CUSTOM INSTRUCTIONS\n",
    "\n",
    "instructions = \"Provide all attribute values in Spanish\""
   ]
  },
  {
   "cell_type": "code",
   "execution_count": null,
   "id": "e3aa9f82",
   "metadata": {},
   "outputs": [],
   "source": [
    "### RUN ATTRIBUTE EXTRACTION\n",
    "\n",
    "run_tabulate_api(\n",
    "    documents=documents,\n",
    "    attributes=attributes,\n",
    "    instructions=instructions,\n",
    "    model_params=model_params,\n",
    "    state_machine_arn=STATE_MACHINE_ARN,\n",
    ")"
   ]
  },
  {
   "cell_type": "markdown",
   "id": "68e1605f",
   "metadata": {},
   "source": [
    "### Level 4: Use LLM As Parser\n",
    "\n",
    "When processing PDF, JPG and PNG documents, you can use either `Amazon Textract` and `Amazon Bedrock` for parsing.\n",
    "\n",
    "Let's upload a sample PDF document and extract information with Anthropic Claude model:"
   ]
  },
  {
   "cell_type": "code",
   "execution_count": 36,
   "id": "3efd41fb",
   "metadata": {},
   "outputs": [],
   "source": [
    "### PDF DOCUMENTS\n",
    "\n",
    "documents = [\n",
    "    \"originals/code-sample-catalog.pdf\",\n",
    "    \"originals/cloud-adoption-framework.pdf\",\n",
    "]"
   ]
  },
  {
   "cell_type": "code",
   "execution_count": 37,
   "id": "dba18d1e",
   "metadata": {},
   "outputs": [],
   "source": [
    "### DEFINE ATTRIBUTES\n",
    "\n",
    "attributes = [\n",
    "    {\n",
    "        \"name\": \"summary\",\n",
    "        \"description\": \"Summary of the document\",\n",
    "    },\n",
    "]"
   ]
  },
  {
   "cell_type": "code",
   "execution_count": 38,
   "id": "c18feba7",
   "metadata": {},
   "outputs": [],
   "source": [
    "### DEFINE PARAMS\n",
    "\n",
    "parsing_mode = \"Amazon Bedrock\"\n",
    "\n",
    "model_params = {\n",
    "    \"model_id\": \"anthropic.claude-3-haiku-20240307-v1:0\",\n",
    "    \"output_length\": 256,\n",
    "    \"temperature\": 0.0,\n",
    "}"
   ]
  },
  {
   "cell_type": "code",
   "execution_count": 39,
   "id": "9de39531",
   "metadata": {},
   "outputs": [
    {
     "data": {
      "text/plain": [
       "[{'file_key': 'originals/code-sample-catalog.pdf',\n",
       "  'attributes': {'summary': 'The AWS Code Sample Catalog has moved to the AWS Code Examples Library.'}},\n",
       " {'file_key': 'originals/cloud-adoption-framework.pdf',\n",
       "  'attributes': {'summary': 'The document provides an overview of the AWS Cloud Adoption Framework (AWS CAF), which leverages AWS experience and best practices to help organizations digitally transform and accelerate their business outcomes through innovative use of AWS. The framework identifies capabilities across six perspectives - Business, People, Governance, Platform, Security, and Operations - that organizations can leverage to improve their cloud readiness and transformation journey. The document covers the cloud transformation value chain, foundational capabilities, and the four iterative and incremental cloud transformation phases of Envision, Align, Launch, and Scale.'}}]"
      ]
     },
     "execution_count": 39,
     "metadata": {},
     "output_type": "execute_result"
    }
   ],
   "source": [
    "### RUN ATTRIBUTE EXTRACTION\n",
    "\n",
    "run_tabulate_api(\n",
    "    documents=documents,\n",
    "    attributes=attributes,\n",
    "    parsing_mode=parsing_mode,\n",
    "    model_params=model_params,\n",
    "    state_machine_arn=STATE_MACHINE_ARN,\n",
    ")"
   ]
  }
 ],
 "metadata": {
  "availableInstances": [
   {
    "_defaultOrder": 0,
    "_isFastLaunch": true,
    "category": "General purpose",
    "gpuNum": 0,
    "hideHardwareSpecs": false,
    "memoryGiB": 4,
    "name": "ml.t3.medium",
    "vcpuNum": 2
   },
   {
    "_defaultOrder": 1,
    "_isFastLaunch": false,
    "category": "General purpose",
    "gpuNum": 0,
    "hideHardwareSpecs": false,
    "memoryGiB": 8,
    "name": "ml.t3.large",
    "vcpuNum": 2
   },
   {
    "_defaultOrder": 2,
    "_isFastLaunch": false,
    "category": "General purpose",
    "gpuNum": 0,
    "hideHardwareSpecs": false,
    "memoryGiB": 16,
    "name": "ml.t3.xlarge",
    "vcpuNum": 4
   },
   {
    "_defaultOrder": 3,
    "_isFastLaunch": false,
    "category": "General purpose",
    "gpuNum": 0,
    "hideHardwareSpecs": false,
    "memoryGiB": 32,
    "name": "ml.t3.2xlarge",
    "vcpuNum": 8
   },
   {
    "_defaultOrder": 4,
    "_isFastLaunch": true,
    "category": "General purpose",
    "gpuNum": 0,
    "hideHardwareSpecs": false,
    "memoryGiB": 8,
    "name": "ml.m5.large",
    "vcpuNum": 2
   },
   {
    "_defaultOrder": 5,
    "_isFastLaunch": false,
    "category": "General purpose",
    "gpuNum": 0,
    "hideHardwareSpecs": false,
    "memoryGiB": 16,
    "name": "ml.m5.xlarge",
    "vcpuNum": 4
   },
   {
    "_defaultOrder": 6,
    "_isFastLaunch": false,
    "category": "General purpose",
    "gpuNum": 0,
    "hideHardwareSpecs": false,
    "memoryGiB": 32,
    "name": "ml.m5.2xlarge",
    "vcpuNum": 8
   },
   {
    "_defaultOrder": 7,
    "_isFastLaunch": false,
    "category": "General purpose",
    "gpuNum": 0,
    "hideHardwareSpecs": false,
    "memoryGiB": 64,
    "name": "ml.m5.4xlarge",
    "vcpuNum": 16
   },
   {
    "_defaultOrder": 8,
    "_isFastLaunch": false,
    "category": "General purpose",
    "gpuNum": 0,
    "hideHardwareSpecs": false,
    "memoryGiB": 128,
    "name": "ml.m5.8xlarge",
    "vcpuNum": 32
   },
   {
    "_defaultOrder": 9,
    "_isFastLaunch": false,
    "category": "General purpose",
    "gpuNum": 0,
    "hideHardwareSpecs": false,
    "memoryGiB": 192,
    "name": "ml.m5.12xlarge",
    "vcpuNum": 48
   },
   {
    "_defaultOrder": 10,
    "_isFastLaunch": false,
    "category": "General purpose",
    "gpuNum": 0,
    "hideHardwareSpecs": false,
    "memoryGiB": 256,
    "name": "ml.m5.16xlarge",
    "vcpuNum": 64
   },
   {
    "_defaultOrder": 11,
    "_isFastLaunch": false,
    "category": "General purpose",
    "gpuNum": 0,
    "hideHardwareSpecs": false,
    "memoryGiB": 384,
    "name": "ml.m5.24xlarge",
    "vcpuNum": 96
   },
   {
    "_defaultOrder": 12,
    "_isFastLaunch": false,
    "category": "General purpose",
    "gpuNum": 0,
    "hideHardwareSpecs": false,
    "memoryGiB": 8,
    "name": "ml.m5d.large",
    "vcpuNum": 2
   },
   {
    "_defaultOrder": 13,
    "_isFastLaunch": false,
    "category": "General purpose",
    "gpuNum": 0,
    "hideHardwareSpecs": false,
    "memoryGiB": 16,
    "name": "ml.m5d.xlarge",
    "vcpuNum": 4
   },
   {
    "_defaultOrder": 14,
    "_isFastLaunch": false,
    "category": "General purpose",
    "gpuNum": 0,
    "hideHardwareSpecs": false,
    "memoryGiB": 32,
    "name": "ml.m5d.2xlarge",
    "vcpuNum": 8
   },
   {
    "_defaultOrder": 15,
    "_isFastLaunch": false,
    "category": "General purpose",
    "gpuNum": 0,
    "hideHardwareSpecs": false,
    "memoryGiB": 64,
    "name": "ml.m5d.4xlarge",
    "vcpuNum": 16
   },
   {
    "_defaultOrder": 16,
    "_isFastLaunch": false,
    "category": "General purpose",
    "gpuNum": 0,
    "hideHardwareSpecs": false,
    "memoryGiB": 128,
    "name": "ml.m5d.8xlarge",
    "vcpuNum": 32
   },
   {
    "_defaultOrder": 17,
    "_isFastLaunch": false,
    "category": "General purpose",
    "gpuNum": 0,
    "hideHardwareSpecs": false,
    "memoryGiB": 192,
    "name": "ml.m5d.12xlarge",
    "vcpuNum": 48
   },
   {
    "_defaultOrder": 18,
    "_isFastLaunch": false,
    "category": "General purpose",
    "gpuNum": 0,
    "hideHardwareSpecs": false,
    "memoryGiB": 256,
    "name": "ml.m5d.16xlarge",
    "vcpuNum": 64
   },
   {
    "_defaultOrder": 19,
    "_isFastLaunch": false,
    "category": "General purpose",
    "gpuNum": 0,
    "hideHardwareSpecs": false,
    "memoryGiB": 384,
    "name": "ml.m5d.24xlarge",
    "vcpuNum": 96
   },
   {
    "_defaultOrder": 20,
    "_isFastLaunch": false,
    "category": "General purpose",
    "gpuNum": 0,
    "hideHardwareSpecs": true,
    "memoryGiB": 0,
    "name": "ml.geospatial.interactive",
    "supportedImageNames": [
     "sagemaker-geospatial-v1-0"
    ],
    "vcpuNum": 0
   },
   {
    "_defaultOrder": 21,
    "_isFastLaunch": true,
    "category": "Compute optimized",
    "gpuNum": 0,
    "hideHardwareSpecs": false,
    "memoryGiB": 4,
    "name": "ml.c5.large",
    "vcpuNum": 2
   },
   {
    "_defaultOrder": 22,
    "_isFastLaunch": false,
    "category": "Compute optimized",
    "gpuNum": 0,
    "hideHardwareSpecs": false,
    "memoryGiB": 8,
    "name": "ml.c5.xlarge",
    "vcpuNum": 4
   },
   {
    "_defaultOrder": 23,
    "_isFastLaunch": false,
    "category": "Compute optimized",
    "gpuNum": 0,
    "hideHardwareSpecs": false,
    "memoryGiB": 16,
    "name": "ml.c5.2xlarge",
    "vcpuNum": 8
   },
   {
    "_defaultOrder": 24,
    "_isFastLaunch": false,
    "category": "Compute optimized",
    "gpuNum": 0,
    "hideHardwareSpecs": false,
    "memoryGiB": 32,
    "name": "ml.c5.4xlarge",
    "vcpuNum": 16
   },
   {
    "_defaultOrder": 25,
    "_isFastLaunch": false,
    "category": "Compute optimized",
    "gpuNum": 0,
    "hideHardwareSpecs": false,
    "memoryGiB": 72,
    "name": "ml.c5.9xlarge",
    "vcpuNum": 36
   },
   {
    "_defaultOrder": 26,
    "_isFastLaunch": false,
    "category": "Compute optimized",
    "gpuNum": 0,
    "hideHardwareSpecs": false,
    "memoryGiB": 96,
    "name": "ml.c5.12xlarge",
    "vcpuNum": 48
   },
   {
    "_defaultOrder": 27,
    "_isFastLaunch": false,
    "category": "Compute optimized",
    "gpuNum": 0,
    "hideHardwareSpecs": false,
    "memoryGiB": 144,
    "name": "ml.c5.18xlarge",
    "vcpuNum": 72
   },
   {
    "_defaultOrder": 28,
    "_isFastLaunch": false,
    "category": "Compute optimized",
    "gpuNum": 0,
    "hideHardwareSpecs": false,
    "memoryGiB": 192,
    "name": "ml.c5.24xlarge",
    "vcpuNum": 96
   },
   {
    "_defaultOrder": 29,
    "_isFastLaunch": true,
    "category": "Accelerated computing",
    "gpuNum": 1,
    "hideHardwareSpecs": false,
    "memoryGiB": 16,
    "name": "ml.g4dn.xlarge",
    "vcpuNum": 4
   },
   {
    "_defaultOrder": 30,
    "_isFastLaunch": false,
    "category": "Accelerated computing",
    "gpuNum": 1,
    "hideHardwareSpecs": false,
    "memoryGiB": 32,
    "name": "ml.g4dn.2xlarge",
    "vcpuNum": 8
   },
   {
    "_defaultOrder": 31,
    "_isFastLaunch": false,
    "category": "Accelerated computing",
    "gpuNum": 1,
    "hideHardwareSpecs": false,
    "memoryGiB": 64,
    "name": "ml.g4dn.4xlarge",
    "vcpuNum": 16
   },
   {
    "_defaultOrder": 32,
    "_isFastLaunch": false,
    "category": "Accelerated computing",
    "gpuNum": 1,
    "hideHardwareSpecs": false,
    "memoryGiB": 128,
    "name": "ml.g4dn.8xlarge",
    "vcpuNum": 32
   },
   {
    "_defaultOrder": 33,
    "_isFastLaunch": false,
    "category": "Accelerated computing",
    "gpuNum": 4,
    "hideHardwareSpecs": false,
    "memoryGiB": 192,
    "name": "ml.g4dn.12xlarge",
    "vcpuNum": 48
   },
   {
    "_defaultOrder": 34,
    "_isFastLaunch": false,
    "category": "Accelerated computing",
    "gpuNum": 1,
    "hideHardwareSpecs": false,
    "memoryGiB": 256,
    "name": "ml.g4dn.16xlarge",
    "vcpuNum": 64
   },
   {
    "_defaultOrder": 35,
    "_isFastLaunch": false,
    "category": "Accelerated computing",
    "gpuNum": 1,
    "hideHardwareSpecs": false,
    "memoryGiB": 61,
    "name": "ml.p3.2xlarge",
    "vcpuNum": 8
   },
   {
    "_defaultOrder": 36,
    "_isFastLaunch": false,
    "category": "Accelerated computing",
    "gpuNum": 4,
    "hideHardwareSpecs": false,
    "memoryGiB": 244,
    "name": "ml.p3.8xlarge",
    "vcpuNum": 32
   },
   {
    "_defaultOrder": 37,
    "_isFastLaunch": false,
    "category": "Accelerated computing",
    "gpuNum": 8,
    "hideHardwareSpecs": false,
    "memoryGiB": 488,
    "name": "ml.p3.16xlarge",
    "vcpuNum": 64
   },
   {
    "_defaultOrder": 38,
    "_isFastLaunch": false,
    "category": "Accelerated computing",
    "gpuNum": 8,
    "hideHardwareSpecs": false,
    "memoryGiB": 768,
    "name": "ml.p3dn.24xlarge",
    "vcpuNum": 96
   },
   {
    "_defaultOrder": 39,
    "_isFastLaunch": false,
    "category": "Memory Optimized",
    "gpuNum": 0,
    "hideHardwareSpecs": false,
    "memoryGiB": 16,
    "name": "ml.r5.large",
    "vcpuNum": 2
   },
   {
    "_defaultOrder": 40,
    "_isFastLaunch": false,
    "category": "Memory Optimized",
    "gpuNum": 0,
    "hideHardwareSpecs": false,
    "memoryGiB": 32,
    "name": "ml.r5.xlarge",
    "vcpuNum": 4
   },
   {
    "_defaultOrder": 41,
    "_isFastLaunch": false,
    "category": "Memory Optimized",
    "gpuNum": 0,
    "hideHardwareSpecs": false,
    "memoryGiB": 64,
    "name": "ml.r5.2xlarge",
    "vcpuNum": 8
   },
   {
    "_defaultOrder": 42,
    "_isFastLaunch": false,
    "category": "Memory Optimized",
    "gpuNum": 0,
    "hideHardwareSpecs": false,
    "memoryGiB": 128,
    "name": "ml.r5.4xlarge",
    "vcpuNum": 16
   },
   {
    "_defaultOrder": 43,
    "_isFastLaunch": false,
    "category": "Memory Optimized",
    "gpuNum": 0,
    "hideHardwareSpecs": false,
    "memoryGiB": 256,
    "name": "ml.r5.8xlarge",
    "vcpuNum": 32
   },
   {
    "_defaultOrder": 44,
    "_isFastLaunch": false,
    "category": "Memory Optimized",
    "gpuNum": 0,
    "hideHardwareSpecs": false,
    "memoryGiB": 384,
    "name": "ml.r5.12xlarge",
    "vcpuNum": 48
   },
   {
    "_defaultOrder": 45,
    "_isFastLaunch": false,
    "category": "Memory Optimized",
    "gpuNum": 0,
    "hideHardwareSpecs": false,
    "memoryGiB": 512,
    "name": "ml.r5.16xlarge",
    "vcpuNum": 64
   },
   {
    "_defaultOrder": 46,
    "_isFastLaunch": false,
    "category": "Memory Optimized",
    "gpuNum": 0,
    "hideHardwareSpecs": false,
    "memoryGiB": 768,
    "name": "ml.r5.24xlarge",
    "vcpuNum": 96
   },
   {
    "_defaultOrder": 47,
    "_isFastLaunch": false,
    "category": "Accelerated computing",
    "gpuNum": 1,
    "hideHardwareSpecs": false,
    "memoryGiB": 16,
    "name": "ml.g5.xlarge",
    "vcpuNum": 4
   },
   {
    "_defaultOrder": 48,
    "_isFastLaunch": false,
    "category": "Accelerated computing",
    "gpuNum": 1,
    "hideHardwareSpecs": false,
    "memoryGiB": 32,
    "name": "ml.g5.2xlarge",
    "vcpuNum": 8
   },
   {
    "_defaultOrder": 49,
    "_isFastLaunch": false,
    "category": "Accelerated computing",
    "gpuNum": 1,
    "hideHardwareSpecs": false,
    "memoryGiB": 64,
    "name": "ml.g5.4xlarge",
    "vcpuNum": 16
   },
   {
    "_defaultOrder": 50,
    "_isFastLaunch": false,
    "category": "Accelerated computing",
    "gpuNum": 1,
    "hideHardwareSpecs": false,
    "memoryGiB": 128,
    "name": "ml.g5.8xlarge",
    "vcpuNum": 32
   },
   {
    "_defaultOrder": 51,
    "_isFastLaunch": false,
    "category": "Accelerated computing",
    "gpuNum": 1,
    "hideHardwareSpecs": false,
    "memoryGiB": 256,
    "name": "ml.g5.16xlarge",
    "vcpuNum": 64
   },
   {
    "_defaultOrder": 52,
    "_isFastLaunch": false,
    "category": "Accelerated computing",
    "gpuNum": 4,
    "hideHardwareSpecs": false,
    "memoryGiB": 192,
    "name": "ml.g5.12xlarge",
    "vcpuNum": 48
   },
   {
    "_defaultOrder": 53,
    "_isFastLaunch": false,
    "category": "Accelerated computing",
    "gpuNum": 4,
    "hideHardwareSpecs": false,
    "memoryGiB": 384,
    "name": "ml.g5.24xlarge",
    "vcpuNum": 96
   },
   {
    "_defaultOrder": 54,
    "_isFastLaunch": false,
    "category": "Accelerated computing",
    "gpuNum": 8,
    "hideHardwareSpecs": false,
    "memoryGiB": 768,
    "name": "ml.g5.48xlarge",
    "vcpuNum": 192
   },
   {
    "_defaultOrder": 55,
    "_isFastLaunch": false,
    "category": "Accelerated computing",
    "gpuNum": 8,
    "hideHardwareSpecs": false,
    "memoryGiB": 1152,
    "name": "ml.p4d.24xlarge",
    "vcpuNum": 96
   },
   {
    "_defaultOrder": 56,
    "_isFastLaunch": false,
    "category": "Accelerated computing",
    "gpuNum": 8,
    "hideHardwareSpecs": false,
    "memoryGiB": 1152,
    "name": "ml.p4de.24xlarge",
    "vcpuNum": 96
   },
   {
    "_defaultOrder": 57,
    "_isFastLaunch": false,
    "category": "Accelerated computing",
    "gpuNum": 0,
    "hideHardwareSpecs": false,
    "memoryGiB": 32,
    "name": "ml.trn1.2xlarge",
    "vcpuNum": 8
   },
   {
    "_defaultOrder": 58,
    "_isFastLaunch": false,
    "category": "Accelerated computing",
    "gpuNum": 0,
    "hideHardwareSpecs": false,
    "memoryGiB": 512,
    "name": "ml.trn1.32xlarge",
    "vcpuNum": 128
   },
   {
    "_defaultOrder": 59,
    "_isFastLaunch": false,
    "category": "Accelerated computing",
    "gpuNum": 0,
    "hideHardwareSpecs": false,
    "memoryGiB": 512,
    "name": "ml.trn1n.32xlarge",
    "vcpuNum": 128
   }
  ],
  "instance_type": "ml.t3.medium",
  "kernelspec": {
   "display_name": ".venv",
   "language": "python",
   "name": "python3"
  },
  "language_info": {
   "codemirror_mode": {
    "name": "ipython",
    "version": 3
   },
   "file_extension": ".py",
   "mimetype": "text/x-python",
   "name": "python",
   "nbconvert_exporter": "python",
   "pygments_lexer": "ipython3",
   "version": "3.9.13"
  }
 },
 "nbformat": 4,
 "nbformat_minor": 5
}
